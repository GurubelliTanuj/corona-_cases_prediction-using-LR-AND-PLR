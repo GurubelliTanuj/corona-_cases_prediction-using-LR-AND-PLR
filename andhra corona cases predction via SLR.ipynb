{
 "cells": [
  {
   "cell_type": "code",
   "execution_count": 2,
   "id": "d8c36588",
   "metadata": {},
   "outputs": [],
   "source": [
    "import numpy as np\n",
    "import pandas as pd\n",
    "import matplotlib.pyplot as plt\n",
    "import seaborn as sns\n",
    "import warnings\n",
    "warnings.filterwarnings('ignore')"
   ]
  },
  {
   "cell_type": "code",
   "execution_count": 3,
   "id": "e40cc5fe",
   "metadata": {},
   "outputs": [],
   "source": [
    "df=pd.read_csv('StatewiseTestingDetails.csv')"
   ]
  },
  {
   "cell_type": "code",
   "execution_count": 4,
   "id": "f03707b8",
   "metadata": {},
   "outputs": [
    {
     "data": {
      "text/html": [
       "<div>\n",
       "<style scoped>\n",
       "    .dataframe tbody tr th:only-of-type {\n",
       "        vertical-align: middle;\n",
       "    }\n",
       "\n",
       "    .dataframe tbody tr th {\n",
       "        vertical-align: top;\n",
       "    }\n",
       "\n",
       "    .dataframe thead th {\n",
       "        text-align: right;\n",
       "    }\n",
       "</style>\n",
       "<table border=\"1\" class=\"dataframe\">\n",
       "  <thead>\n",
       "    <tr style=\"text-align: right;\">\n",
       "      <th></th>\n",
       "      <th>Date</th>\n",
       "      <th>State</th>\n",
       "      <th>TotalSamples</th>\n",
       "      <th>Negative</th>\n",
       "      <th>Positive</th>\n",
       "    </tr>\n",
       "  </thead>\n",
       "  <tbody>\n",
       "    <tr>\n",
       "      <th>0</th>\n",
       "      <td>2020-04-17</td>\n",
       "      <td>Andaman and Nicobar Islands</td>\n",
       "      <td>1403.0</td>\n",
       "      <td>1210</td>\n",
       "      <td>12.0</td>\n",
       "    </tr>\n",
       "    <tr>\n",
       "      <th>1</th>\n",
       "      <td>2020-04-24</td>\n",
       "      <td>Andaman and Nicobar Islands</td>\n",
       "      <td>2679.0</td>\n",
       "      <td>NaN</td>\n",
       "      <td>27.0</td>\n",
       "    </tr>\n",
       "    <tr>\n",
       "      <th>2</th>\n",
       "      <td>2020-04-27</td>\n",
       "      <td>Andaman and Nicobar Islands</td>\n",
       "      <td>2848.0</td>\n",
       "      <td>NaN</td>\n",
       "      <td>33.0</td>\n",
       "    </tr>\n",
       "    <tr>\n",
       "      <th>3</th>\n",
       "      <td>2020-05-01</td>\n",
       "      <td>Andaman and Nicobar Islands</td>\n",
       "      <td>3754.0</td>\n",
       "      <td>NaN</td>\n",
       "      <td>33.0</td>\n",
       "    </tr>\n",
       "    <tr>\n",
       "      <th>4</th>\n",
       "      <td>2020-05-16</td>\n",
       "      <td>Andaman and Nicobar Islands</td>\n",
       "      <td>6677.0</td>\n",
       "      <td>NaN</td>\n",
       "      <td>33.0</td>\n",
       "    </tr>\n",
       "    <tr>\n",
       "      <th>...</th>\n",
       "      <td>...</td>\n",
       "      <td>...</td>\n",
       "      <td>...</td>\n",
       "      <td>...</td>\n",
       "      <td>...</td>\n",
       "    </tr>\n",
       "    <tr>\n",
       "      <th>15108</th>\n",
       "      <td>2021-07-02</td>\n",
       "      <td>West Bengal</td>\n",
       "      <td>14325099.0</td>\n",
       "      <td>NaN</td>\n",
       "      <td>NaN</td>\n",
       "    </tr>\n",
       "    <tr>\n",
       "      <th>15109</th>\n",
       "      <td>2021-07-03</td>\n",
       "      <td>West Bengal</td>\n",
       "      <td>14377860.0</td>\n",
       "      <td>NaN</td>\n",
       "      <td>NaN</td>\n",
       "    </tr>\n",
       "    <tr>\n",
       "      <th>15110</th>\n",
       "      <td>2021-07-04</td>\n",
       "      <td>West Bengal</td>\n",
       "      <td>14430084.0</td>\n",
       "      <td>NaN</td>\n",
       "      <td>NaN</td>\n",
       "    </tr>\n",
       "    <tr>\n",
       "      <th>15111</th>\n",
       "      <td>2021-07-05</td>\n",
       "      <td>West Bengal</td>\n",
       "      <td>14470472.0</td>\n",
       "      <td>NaN</td>\n",
       "      <td>NaN</td>\n",
       "    </tr>\n",
       "    <tr>\n",
       "      <th>15112</th>\n",
       "      <td>2021-07-06</td>\n",
       "      <td>West Bengal</td>\n",
       "      <td>14516751.0</td>\n",
       "      <td>NaN</td>\n",
       "      <td>NaN</td>\n",
       "    </tr>\n",
       "  </tbody>\n",
       "</table>\n",
       "<p>15113 rows × 5 columns</p>\n",
       "</div>"
      ],
      "text/plain": [
       "             Date                        State  TotalSamples Negative  \\\n",
       "0      2020-04-17  Andaman and Nicobar Islands        1403.0     1210   \n",
       "1      2020-04-24  Andaman and Nicobar Islands        2679.0      NaN   \n",
       "2      2020-04-27  Andaman and Nicobar Islands        2848.0      NaN   \n",
       "3      2020-05-01  Andaman and Nicobar Islands        3754.0      NaN   \n",
       "4      2020-05-16  Andaman and Nicobar Islands        6677.0      NaN   \n",
       "...           ...                          ...           ...      ...   \n",
       "15108  2021-07-02                  West Bengal    14325099.0      NaN   \n",
       "15109  2021-07-03                  West Bengal    14377860.0      NaN   \n",
       "15110  2021-07-04                  West Bengal    14430084.0      NaN   \n",
       "15111  2021-07-05                  West Bengal    14470472.0      NaN   \n",
       "15112  2021-07-06                  West Bengal    14516751.0      NaN   \n",
       "\n",
       "       Positive  \n",
       "0          12.0  \n",
       "1          27.0  \n",
       "2          33.0  \n",
       "3          33.0  \n",
       "4          33.0  \n",
       "...         ...  \n",
       "15108       NaN  \n",
       "15109       NaN  \n",
       "15110       NaN  \n",
       "15111       NaN  \n",
       "15112       NaN  \n",
       "\n",
       "[15113 rows x 5 columns]"
      ]
     },
     "execution_count": 4,
     "metadata": {},
     "output_type": "execute_result"
    }
   ],
   "source": [
    "df"
   ]
  },
  {
   "cell_type": "code",
   "execution_count": 5,
   "id": "a35f1a01",
   "metadata": {},
   "outputs": [
    {
     "data": {
      "text/plain": [
       "array(['Andaman and Nicobar Islands', 'Andhra Pradesh',\n",
       "       'Arunachal Pradesh', 'Assam', 'Bihar', 'Chandigarh',\n",
       "       'Chhattisgarh', 'Dadra and Nagar Haveli and Daman and Diu',\n",
       "       'Delhi', 'Goa', 'Gujarat', 'Haryana', 'Himachal Pradesh',\n",
       "       'Jammu and Kashmir', 'Jharkhand', 'Karnataka', 'Kerala', 'Ladakh',\n",
       "       'Lakshadweep', 'Madhya Pradesh', 'Maharashtra', 'Manipur',\n",
       "       'Meghalaya', 'Mizoram', 'Nagaland', 'Odisha', 'Puducherry',\n",
       "       'Punjab', 'Rajasthan', 'Sikkim', 'Tamil Nadu', 'Telangana',\n",
       "       'Tripura', 'Uttar Pradesh', 'Uttarakhand', 'West Bengal'],\n",
       "      dtype=object)"
      ]
     },
     "execution_count": 5,
     "metadata": {},
     "output_type": "execute_result"
    }
   ],
   "source": [
    "df['State'].unique()"
   ]
  },
  {
   "cell_type": "code",
   "execution_count": 8,
   "id": "406e974c",
   "metadata": {},
   "outputs": [
    {
     "data": {
      "text/html": [
       "<div>\n",
       "<style scoped>\n",
       "    .dataframe tbody tr th:only-of-type {\n",
       "        vertical-align: middle;\n",
       "    }\n",
       "\n",
       "    .dataframe tbody tr th {\n",
       "        vertical-align: top;\n",
       "    }\n",
       "\n",
       "    .dataframe thead th {\n",
       "        text-align: right;\n",
       "    }\n",
       "</style>\n",
       "<table border=\"1\" class=\"dataframe\">\n",
       "  <thead>\n",
       "    <tr style=\"text-align: right;\">\n",
       "      <th></th>\n",
       "      <th>Date</th>\n",
       "      <th>State</th>\n",
       "      <th>TotalSamples</th>\n",
       "      <th>Negative</th>\n",
       "      <th>Positive</th>\n",
       "    </tr>\n",
       "  </thead>\n",
       "  <tbody>\n",
       "    <tr>\n",
       "      <th>418</th>\n",
       "      <td>2020-04-02</td>\n",
       "      <td>Andhra Pradesh</td>\n",
       "      <td>1800.0</td>\n",
       "      <td>1175</td>\n",
       "      <td>132.0</td>\n",
       "    </tr>\n",
       "    <tr>\n",
       "      <th>419</th>\n",
       "      <td>2020-04-10</td>\n",
       "      <td>Andhra Pradesh</td>\n",
       "      <td>6374.0</td>\n",
       "      <td>6009</td>\n",
       "      <td>365.0</td>\n",
       "    </tr>\n",
       "    <tr>\n",
       "      <th>420</th>\n",
       "      <td>2020-04-11</td>\n",
       "      <td>Andhra Pradesh</td>\n",
       "      <td>6958.0</td>\n",
       "      <td>6577</td>\n",
       "      <td>381.0</td>\n",
       "    </tr>\n",
       "    <tr>\n",
       "      <th>421</th>\n",
       "      <td>2020-04-12</td>\n",
       "      <td>Andhra Pradesh</td>\n",
       "      <td>6958.0</td>\n",
       "      <td>6553</td>\n",
       "      <td>405.0</td>\n",
       "    </tr>\n",
       "    <tr>\n",
       "      <th>422</th>\n",
       "      <td>2020-04-13</td>\n",
       "      <td>Andhra Pradesh</td>\n",
       "      <td>8755.0</td>\n",
       "      <td>8323</td>\n",
       "      <td>432.0</td>\n",
       "    </tr>\n",
       "    <tr>\n",
       "      <th>...</th>\n",
       "      <td>...</td>\n",
       "      <td>...</td>\n",
       "      <td>...</td>\n",
       "      <td>...</td>\n",
       "      <td>...</td>\n",
       "    </tr>\n",
       "    <tr>\n",
       "      <th>866</th>\n",
       "      <td>2021-07-02</td>\n",
       "      <td>Andhra Pradesh</td>\n",
       "      <td>22177951.0</td>\n",
       "      <td>20281133</td>\n",
       "      <td>NaN</td>\n",
       "    </tr>\n",
       "    <tr>\n",
       "      <th>867</th>\n",
       "      <td>2021-07-03</td>\n",
       "      <td>Andhra Pradesh</td>\n",
       "      <td>22268483.0</td>\n",
       "      <td>20368735</td>\n",
       "      <td>NaN</td>\n",
       "    </tr>\n",
       "    <tr>\n",
       "      <th>868</th>\n",
       "      <td>2021-07-04</td>\n",
       "      <td>Andhra Pradesh</td>\n",
       "      <td>22363078.0</td>\n",
       "      <td>20460155</td>\n",
       "      <td>NaN</td>\n",
       "    </tr>\n",
       "    <tr>\n",
       "      <th>869</th>\n",
       "      <td>2021-07-05</td>\n",
       "      <td>Andhra Pradesh</td>\n",
       "      <td>22435809.0</td>\n",
       "      <td>20530786</td>\n",
       "      <td>NaN</td>\n",
       "    </tr>\n",
       "    <tr>\n",
       "      <th>870</th>\n",
       "      <td>2021-07-06</td>\n",
       "      <td>Andhra Pradesh</td>\n",
       "      <td>22524187.0</td>\n",
       "      <td>20616122</td>\n",
       "      <td>NaN</td>\n",
       "    </tr>\n",
       "  </tbody>\n",
       "</table>\n",
       "<p>453 rows × 5 columns</p>\n",
       "</div>"
      ],
      "text/plain": [
       "           Date           State  TotalSamples  Negative  Positive\n",
       "418  2020-04-02  Andhra Pradesh        1800.0      1175     132.0\n",
       "419  2020-04-10  Andhra Pradesh        6374.0      6009     365.0\n",
       "420  2020-04-11  Andhra Pradesh        6958.0      6577     381.0\n",
       "421  2020-04-12  Andhra Pradesh        6958.0      6553     405.0\n",
       "422  2020-04-13  Andhra Pradesh        8755.0      8323     432.0\n",
       "..          ...             ...           ...       ...       ...\n",
       "866  2021-07-02  Andhra Pradesh    22177951.0  20281133       NaN\n",
       "867  2021-07-03  Andhra Pradesh    22268483.0  20368735       NaN\n",
       "868  2021-07-04  Andhra Pradesh    22363078.0  20460155       NaN\n",
       "869  2021-07-05  Andhra Pradesh    22435809.0  20530786       NaN\n",
       "870  2021-07-06  Andhra Pradesh    22524187.0  20616122       NaN\n",
       "\n",
       "[453 rows x 5 columns]"
      ]
     },
     "execution_count": 8,
     "metadata": {},
     "output_type": "execute_result"
    }
   ],
   "source": [
    "df[df['State']=='Andhra Pradesh']"
   ]
  },
  {
   "cell_type": "code",
   "execution_count": 9,
   "id": "a6885239",
   "metadata": {},
   "outputs": [
    {
     "name": "stdout",
     "output_type": "stream",
     "text": [
      "<class 'pandas.core.frame.DataFrame'>\n",
      "RangeIndex: 15113 entries, 0 to 15112\n",
      "Data columns (total 5 columns):\n",
      " #   Column        Non-Null Count  Dtype  \n",
      "---  ------        --------------  -----  \n",
      " 0   Date          15113 non-null  object \n",
      " 1   State         15113 non-null  object \n",
      " 2   TotalSamples  15113 non-null  float64\n",
      " 3   Negative      6657 non-null   object \n",
      " 4   Positive      5589 non-null   float64\n",
      "dtypes: float64(2), object(3)\n",
      "memory usage: 590.5+ KB\n"
     ]
    }
   ],
   "source": [
    "df.info()"
   ]
  },
  {
   "cell_type": "code",
   "execution_count": 10,
   "id": "234d2495",
   "metadata": {},
   "outputs": [
    {
     "data": {
      "text/html": [
       "<div>\n",
       "<style scoped>\n",
       "    .dataframe tbody tr th:only-of-type {\n",
       "        vertical-align: middle;\n",
       "    }\n",
       "\n",
       "    .dataframe tbody tr th {\n",
       "        vertical-align: top;\n",
       "    }\n",
       "\n",
       "    .dataframe thead th {\n",
       "        text-align: right;\n",
       "    }\n",
       "</style>\n",
       "<table border=\"1\" class=\"dataframe\">\n",
       "  <thead>\n",
       "    <tr style=\"text-align: right;\">\n",
       "      <th></th>\n",
       "      <th>False</th>\n",
       "      <th>True</th>\n",
       "    </tr>\n",
       "  </thead>\n",
       "  <tbody>\n",
       "    <tr>\n",
       "      <th>Date</th>\n",
       "      <td>15113.0</td>\n",
       "      <td>NaN</td>\n",
       "    </tr>\n",
       "    <tr>\n",
       "      <th>State</th>\n",
       "      <td>15113.0</td>\n",
       "      <td>NaN</td>\n",
       "    </tr>\n",
       "    <tr>\n",
       "      <th>TotalSamples</th>\n",
       "      <td>15113.0</td>\n",
       "      <td>NaN</td>\n",
       "    </tr>\n",
       "    <tr>\n",
       "      <th>Negative</th>\n",
       "      <td>6657.0</td>\n",
       "      <td>8456.0</td>\n",
       "    </tr>\n",
       "    <tr>\n",
       "      <th>Positive</th>\n",
       "      <td>5589.0</td>\n",
       "      <td>9524.0</td>\n",
       "    </tr>\n",
       "  </tbody>\n",
       "</table>\n",
       "</div>"
      ],
      "text/plain": [
       "                False   True \n",
       "Date          15113.0     NaN\n",
       "State         15113.0     NaN\n",
       "TotalSamples  15113.0     NaN\n",
       "Negative       6657.0  8456.0\n",
       "Positive       5589.0  9524.0"
      ]
     },
     "execution_count": 10,
     "metadata": {},
     "output_type": "execute_result"
    }
   ],
   "source": [
    "df.isna().apply(pd.value_counts).T"
   ]
  },
  {
   "cell_type": "code",
   "execution_count": 11,
   "id": "83b244d1",
   "metadata": {},
   "outputs": [],
   "source": [
    "dt=df[['TotalSamples','Positive']]"
   ]
  },
  {
   "cell_type": "code",
   "execution_count": 12,
   "id": "bb3925d3",
   "metadata": {},
   "outputs": [],
   "source": [
    "dt=dt[df['State']=='Andhra Pradesh']"
   ]
  },
  {
   "cell_type": "code",
   "execution_count": 13,
   "id": "408235f5",
   "metadata": {},
   "outputs": [
    {
     "data": {
      "text/html": [
       "<div>\n",
       "<style scoped>\n",
       "    .dataframe tbody tr th:only-of-type {\n",
       "        vertical-align: middle;\n",
       "    }\n",
       "\n",
       "    .dataframe tbody tr th {\n",
       "        vertical-align: top;\n",
       "    }\n",
       "\n",
       "    .dataframe thead th {\n",
       "        text-align: right;\n",
       "    }\n",
       "</style>\n",
       "<table border=\"1\" class=\"dataframe\">\n",
       "  <thead>\n",
       "    <tr style=\"text-align: right;\">\n",
       "      <th></th>\n",
       "      <th>TotalSamples</th>\n",
       "      <th>Positive</th>\n",
       "    </tr>\n",
       "  </thead>\n",
       "  <tbody>\n",
       "    <tr>\n",
       "      <th>418</th>\n",
       "      <td>1800.0</td>\n",
       "      <td>132.0</td>\n",
       "    </tr>\n",
       "    <tr>\n",
       "      <th>419</th>\n",
       "      <td>6374.0</td>\n",
       "      <td>365.0</td>\n",
       "    </tr>\n",
       "    <tr>\n",
       "      <th>420</th>\n",
       "      <td>6958.0</td>\n",
       "      <td>381.0</td>\n",
       "    </tr>\n",
       "    <tr>\n",
       "      <th>421</th>\n",
       "      <td>6958.0</td>\n",
       "      <td>405.0</td>\n",
       "    </tr>\n",
       "    <tr>\n",
       "      <th>422</th>\n",
       "      <td>8755.0</td>\n",
       "      <td>432.0</td>\n",
       "    </tr>\n",
       "    <tr>\n",
       "      <th>...</th>\n",
       "      <td>...</td>\n",
       "      <td>...</td>\n",
       "    </tr>\n",
       "    <tr>\n",
       "      <th>866</th>\n",
       "      <td>22177951.0</td>\n",
       "      <td>NaN</td>\n",
       "    </tr>\n",
       "    <tr>\n",
       "      <th>867</th>\n",
       "      <td>22268483.0</td>\n",
       "      <td>NaN</td>\n",
       "    </tr>\n",
       "    <tr>\n",
       "      <th>868</th>\n",
       "      <td>22363078.0</td>\n",
       "      <td>NaN</td>\n",
       "    </tr>\n",
       "    <tr>\n",
       "      <th>869</th>\n",
       "      <td>22435809.0</td>\n",
       "      <td>NaN</td>\n",
       "    </tr>\n",
       "    <tr>\n",
       "      <th>870</th>\n",
       "      <td>22524187.0</td>\n",
       "      <td>NaN</td>\n",
       "    </tr>\n",
       "  </tbody>\n",
       "</table>\n",
       "<p>453 rows × 2 columns</p>\n",
       "</div>"
      ],
      "text/plain": [
       "     TotalSamples  Positive\n",
       "418        1800.0     132.0\n",
       "419        6374.0     365.0\n",
       "420        6958.0     381.0\n",
       "421        6958.0     405.0\n",
       "422        8755.0     432.0\n",
       "..            ...       ...\n",
       "866    22177951.0       NaN\n",
       "867    22268483.0       NaN\n",
       "868    22363078.0       NaN\n",
       "869    22435809.0       NaN\n",
       "870    22524187.0       NaN\n",
       "\n",
       "[453 rows x 2 columns]"
      ]
     },
     "execution_count": 13,
     "metadata": {},
     "output_type": "execute_result"
    }
   ],
   "source": [
    "dt"
   ]
  },
  {
   "cell_type": "code",
   "execution_count": 14,
   "id": "6ec12859",
   "metadata": {},
   "outputs": [],
   "source": [
    "dt=dt.dropna()"
   ]
  },
  {
   "cell_type": "code",
   "execution_count": 15,
   "id": "5a0d7d4c",
   "metadata": {},
   "outputs": [
    {
     "data": {
      "text/html": [
       "<div>\n",
       "<style scoped>\n",
       "    .dataframe tbody tr th:only-of-type {\n",
       "        vertical-align: middle;\n",
       "    }\n",
       "\n",
       "    .dataframe tbody tr th {\n",
       "        vertical-align: top;\n",
       "    }\n",
       "\n",
       "    .dataframe thead th {\n",
       "        text-align: right;\n",
       "    }\n",
       "</style>\n",
       "<table border=\"1\" class=\"dataframe\">\n",
       "  <thead>\n",
       "    <tr style=\"text-align: right;\">\n",
       "      <th></th>\n",
       "      <th>False</th>\n",
       "    </tr>\n",
       "  </thead>\n",
       "  <tbody>\n",
       "    <tr>\n",
       "      <th>TotalSamples</th>\n",
       "      <td>123</td>\n",
       "    </tr>\n",
       "    <tr>\n",
       "      <th>Positive</th>\n",
       "      <td>123</td>\n",
       "    </tr>\n",
       "  </tbody>\n",
       "</table>\n",
       "</div>"
      ],
      "text/plain": [
       "              False\n",
       "TotalSamples    123\n",
       "Positive        123"
      ]
     },
     "execution_count": 15,
     "metadata": {},
     "output_type": "execute_result"
    }
   ],
   "source": [
    "dt.isna().apply(pd.value_counts).T"
   ]
  },
  {
   "cell_type": "code",
   "execution_count": 16,
   "id": "63e870ac",
   "metadata": {},
   "outputs": [
    {
     "data": {
      "text/html": [
       "<div>\n",
       "<style scoped>\n",
       "    .dataframe tbody tr th:only-of-type {\n",
       "        vertical-align: middle;\n",
       "    }\n",
       "\n",
       "    .dataframe tbody tr th {\n",
       "        vertical-align: top;\n",
       "    }\n",
       "\n",
       "    .dataframe thead th {\n",
       "        text-align: right;\n",
       "    }\n",
       "</style>\n",
       "<table border=\"1\" class=\"dataframe\">\n",
       "  <thead>\n",
       "    <tr style=\"text-align: right;\">\n",
       "      <th></th>\n",
       "      <th>TotalSamples</th>\n",
       "      <th>Positive</th>\n",
       "    </tr>\n",
       "  </thead>\n",
       "  <tbody>\n",
       "    <tr>\n",
       "      <th>418</th>\n",
       "      <td>1800.0</td>\n",
       "      <td>132.0</td>\n",
       "    </tr>\n",
       "    <tr>\n",
       "      <th>419</th>\n",
       "      <td>6374.0</td>\n",
       "      <td>365.0</td>\n",
       "    </tr>\n",
       "    <tr>\n",
       "      <th>420</th>\n",
       "      <td>6958.0</td>\n",
       "      <td>381.0</td>\n",
       "    </tr>\n",
       "    <tr>\n",
       "      <th>421</th>\n",
       "      <td>6958.0</td>\n",
       "      <td>405.0</td>\n",
       "    </tr>\n",
       "    <tr>\n",
       "      <th>422</th>\n",
       "      <td>8755.0</td>\n",
       "      <td>432.0</td>\n",
       "    </tr>\n",
       "    <tr>\n",
       "      <th>...</th>\n",
       "      <td>...</td>\n",
       "      <td>...</td>\n",
       "    </tr>\n",
       "    <tr>\n",
       "      <th>536</th>\n",
       "      <td>2299332.0</td>\n",
       "      <td>196789.0</td>\n",
       "    </tr>\n",
       "    <tr>\n",
       "      <th>537</th>\n",
       "      <td>2362270.0</td>\n",
       "      <td>206960.0</td>\n",
       "    </tr>\n",
       "    <tr>\n",
       "      <th>538</th>\n",
       "      <td>2424393.0</td>\n",
       "      <td>217040.0</td>\n",
       "    </tr>\n",
       "    <tr>\n",
       "      <th>539</th>\n",
       "      <td>2487305.0</td>\n",
       "      <td>227860.0</td>\n",
       "    </tr>\n",
       "    <tr>\n",
       "      <th>540</th>\n",
       "      <td>2534304.0</td>\n",
       "      <td>235525.0</td>\n",
       "    </tr>\n",
       "  </tbody>\n",
       "</table>\n",
       "<p>123 rows × 2 columns</p>\n",
       "</div>"
      ],
      "text/plain": [
       "     TotalSamples  Positive\n",
       "418        1800.0     132.0\n",
       "419        6374.0     365.0\n",
       "420        6958.0     381.0\n",
       "421        6958.0     405.0\n",
       "422        8755.0     432.0\n",
       "..            ...       ...\n",
       "536     2299332.0  196789.0\n",
       "537     2362270.0  206960.0\n",
       "538     2424393.0  217040.0\n",
       "539     2487305.0  227860.0\n",
       "540     2534304.0  235525.0\n",
       "\n",
       "[123 rows x 2 columns]"
      ]
     },
     "execution_count": 16,
     "metadata": {},
     "output_type": "execute_result"
    }
   ],
   "source": [
    "dt"
   ]
  },
  {
   "cell_type": "code",
   "execution_count": 17,
   "id": "1f1cbe0a",
   "metadata": {},
   "outputs": [
    {
     "data": {
      "image/png": "[encoded data removed]",
      "text/plain": [
       "<Figure size 432x288 with 1 Axes>"
      ]
     },
     "metadata": {
      "needs_background": "light"
     },
     "output_type": "display_data"
    }
   ],
   "source": [
    "sns.scatterplot('Positive','TotalSamples',data=dt)\n",
    "plt.show()"
   ]
  },
  {
   "cell_type": "code",
   "execution_count": 18,
   "id": "7a39dfd2",
   "metadata": {},
   "outputs": [],
   "source": [
    "y=dt['Positive']\n",
    "X=dt['TotalSamples']"
   ]
  },
  {
   "cell_type": "code",
   "execution_count": 19,
   "id": "7275304e",
   "metadata": {},
   "outputs": [
    {
     "data": {
      "text/plain": [
       "418       132.0\n",
       "419       365.0\n",
       "420       381.0\n",
       "421       405.0\n",
       "422       432.0\n",
       "         ...   \n",
       "536    196789.0\n",
       "537    206960.0\n",
       "538    217040.0\n",
       "539    227860.0\n",
       "540    235525.0\n",
       "Name: Positive, Length: 123, dtype: float64"
      ]
     },
     "execution_count": 19,
     "metadata": {},
     "output_type": "execute_result"
    }
   ],
   "source": [
    "y"
   ]
  },
  {
   "cell_type": "code",
   "execution_count": 20,
   "id": "7a5218b7",
   "metadata": {},
   "outputs": [
    {
     "data": {
      "text/plain": [
       "array([[1.32000e+02],\n",
       "       [3.65000e+02],\n",
       "       [3.81000e+02],\n",
       "       [4.05000e+02],\n",
       "       [4.32000e+02],\n",
       "       [4.73000e+02],\n",
       "       [5.25000e+02],\n",
       "       [5.34000e+02],\n",
       "       [5.72000e+02],\n",
       "       [6.03000e+02],\n",
       "       [6.47000e+02],\n",
       "       [7.22000e+02],\n",
       "       [7.57000e+02],\n",
       "       [8.13000e+02],\n",
       "       [8.93000e+02],\n",
       "       [9.55000e+02],\n",
       "       [1.01600e+03],\n",
       "       [1.09700e+03],\n",
       "       [1.17700e+03],\n",
       "       [1.25900e+03],\n",
       "       [1.33200e+03],\n",
       "       [1.40300e+03],\n",
       "       [1.46300e+03],\n",
       "       [1.52500e+03],\n",
       "       [1.58300e+03],\n",
       "       [1.65000e+03],\n",
       "       [1.71700e+03],\n",
       "       [1.77700e+03],\n",
       "       [1.83300e+03],\n",
       "       [1.88700e+03],\n",
       "       [1.93000e+03],\n",
       "       [1.98000e+03],\n",
       "       [2.01800e+03],\n",
       "       [2.05100e+03],\n",
       "       [2.13700e+03],\n",
       "       [2.10000e+03],\n",
       "       [2.15700e+03],\n",
       "       [2.23000e+03],\n",
       "       [2.28200e+03],\n",
       "       [2.33900e+03],\n",
       "       [2.40700e+03],\n",
       "       [2.45200e+03],\n",
       "       [2.51400e+03],\n",
       "       [2.56100e+03],\n",
       "       [2.62700e+03],\n",
       "       [2.67100e+03],\n",
       "       [2.71900e+03],\n",
       "       [2.78700e+03],\n",
       "       [2.84100e+03],\n",
       "       [2.87400e+03],\n",
       "       [2.94400e+03],\n",
       "       [3.04500e+03],\n",
       "       [3.11800e+03],\n",
       "       [3.20000e+03],\n",
       "       [3.27900e+03],\n",
       "       [3.37700e+03],\n",
       "       [3.42700e+03],\n",
       "       [3.58800e+03],\n",
       "       [3.71800e+03],\n",
       "       [3.84300e+03],\n",
       "       [3.99000e+03],\n",
       "       [4.12600e+03],\n",
       "       [4.26100e+03],\n",
       "       [4.40200e+03],\n",
       "       [4.58800e+03],\n",
       "       [4.84100e+03],\n",
       "       [5.08700e+03],\n",
       "       [5.28000e+03],\n",
       "       [5.55500e+03],\n",
       "       [5.85400e+03],\n",
       "       [7.96100e+03],\n",
       "       [8.45200e+03],\n",
       "       [8.92900e+03],\n",
       "       [9.37200e+03],\n",
       "       [9.83400e+03],\n",
       "       [1.03310e+04],\n",
       "       [1.08840e+04],\n",
       "       [1.14890e+04],\n",
       "       [1.22850e+04],\n",
       "       [1.30980e+04],\n",
       "       [1.38910e+04],\n",
       "       [1.45950e+04],\n",
       "       [1.52520e+04],\n",
       "       [1.60970e+04],\n",
       "       [1.69340e+04],\n",
       "       [1.76990e+04],\n",
       "       [1.86970e+04],\n",
       "       [2.00190e+04],\n",
       "       [2.11970e+04],\n",
       "       [2.22590e+04],\n",
       "       [2.38140e+04],\n",
       "       [2.54220e+04],\n",
       "       [2.72350e+04],\n",
       "       [2.91680e+04],\n",
       "       [3.11030e+04],\n",
       "       [3.30190e+04],\n",
       "       [3.54510e+04],\n",
       "       [3.80440e+04],\n",
       "       [4.06460e+04],\n",
       "       [4.46090e+04],\n",
       "       [4.96500e+04],\n",
       "       [5.37240e+04],\n",
       "       [5.86680e+04],\n",
       "       [6.47130e+04],\n",
       "       [7.27110e+04],\n",
       "       [8.08580e+04],\n",
       "       [8.86710e+04],\n",
       "       [9.62980e+04],\n",
       "       [1.02349e+05],\n",
       "       [1.10297e+05],\n",
       "       [1.20390e+05],\n",
       "       [1.30557e+05],\n",
       "       [1.40933e+05],\n",
       "       [1.50209e+05],\n",
       "       [1.58764e+05],\n",
       "       [1.66586e+05],\n",
       "       [1.76333e+05],\n",
       "       [1.86461e+05],\n",
       "       [1.96789e+05],\n",
       "       [2.06960e+05],\n",
       "       [2.17040e+05],\n",
       "       [2.27860e+05],\n",
       "       [2.35525e+05]])"
      ]
     },
     "execution_count": 20,
     "metadata": {},
     "output_type": "execute_result"
    }
   ],
   "source": [
    "y=np.array(y).reshape(-1,1)\n",
    "y"
   ]
  },
  {
   "cell_type": "code",
   "execution_count": 21,
   "id": "f1ae0be4",
   "metadata": {},
   "outputs": [
    {
     "data": {
      "text/plain": [
       "array([[1.800000e+03],\n",
       "       [6.374000e+03],\n",
       "       [6.958000e+03],\n",
       "       [6.958000e+03],\n",
       "       [8.755000e+03],\n",
       "       [1.050500e+04],\n",
       "       [1.161300e+04],\n",
       "       [2.023500e+04],\n",
       "       [2.023500e+04],\n",
       "       [2.145000e+04],\n",
       "       [2.695800e+04],\n",
       "       [3.073300e+04],\n",
       "       [3.575500e+04],\n",
       "       [4.151200e+04],\n",
       "       [4.803200e+04],\n",
       "       [5.433800e+04],\n",
       "       [6.126600e+04],\n",
       "       [6.803400e+04],\n",
       "       [7.455100e+04],\n",
       "       [8.033400e+04],\n",
       "       [8.806100e+04],\n",
       "       [9.455800e+04],\n",
       "       [1.024600e+05],\n",
       "       [1.084030e+05],\n",
       "       [1.149370e+05],\n",
       "       [1.252290e+05],\n",
       "       [1.334920e+05],\n",
       "       [1.412740e+05],\n",
       "       [1.493610e+05],\n",
       "       [1.566810e+05],\n",
       "       [1.650690e+05],\n",
       "       [1.737350e+05],\n",
       "       [1.811440e+05],\n",
       "       [1.918740e+05],\n",
       "       [2.011960e+05],\n",
       "       [2.104520e+05],\n",
       "       [2.194900e+05],\n",
       "       [2.389980e+05],\n",
       "       [2.487710e+05],\n",
       "       [2.584500e+05],\n",
       "       [2.676120e+05],\n",
       "       [2.757040e+05],\n",
       "       [2.841190e+05],\n",
       "       [2.929690e+05],\n",
       "       [3.043260e+05],\n",
       "       [3.145660e+05],\n",
       "       [3.227140e+05],\n",
       "       [3.323780e+05],\n",
       "       [3.422360e+05],\n",
       "       [3.538740e+05],\n",
       "       [3.633780e+05],\n",
       "       [3.727480e+05],\n",
       "       [3.833150e+05],\n",
       "       [3.956810e+05],\n",
       "       [4.037470e+05],\n",
       "       [4.137330e+05],\n",
       "       [4.235640e+05],\n",
       "       [4.363350e+05],\n",
       "       [4.540300e+05],\n",
       "       [4.682760e+05],\n",
       "       [4.833610e+05],\n",
       "       [4.987160e+05],\n",
       "       [5.103180e+05],\n",
       "       [5.220930e+05],\n",
       "       [5.365700e+05],\n",
       "       [5.522020e+05],\n",
       "       [5.673750e+05],\n",
       "       [5.832860e+05],\n",
       "       [5.984740e+05],\n",
       "       [6.123970e+05],\n",
       "       [6.300060e+05],\n",
       "       [6.523770e+05],\n",
       "       [6.768280e+05],\n",
       "       [6.935480e+05],\n",
       "       [7.141870e+05],\n",
       "       [7.502340e+05],\n",
       "       [7.693190e+05],\n",
       "       [7.916240e+05],\n",
       "       [8.160820e+05],\n",
       "       [8.418600e+05],\n",
       "       [8.720760e+05],\n",
       "       [8.901900e+05],\n",
       "       [9.184290e+05],\n",
       "       [9.327130e+05],\n",
       "       [9.716110e+05],\n",
       "       [9.965730e+05],\n",
       "       [1.017140e+06],\n",
       "       [1.033852e+06],\n",
       "       [1.050090e+06],\n",
       "       [1.077733e+06],\n",
       "       [1.094615e+06],\n",
       "       [1.115635e+06],\n",
       "       [1.136225e+06],\n",
       "       [1.153849e+06],\n",
       "       [1.173096e+06],\n",
       "       [1.195766e+06],\n",
       "       [1.217963e+06],\n",
       "       [1.240267e+06],\n",
       "       [1.260512e+06],\n",
       "       [1.284384e+06],\n",
       "       [1.315532e+06],\n",
       "       [1.349112e+06],\n",
       "       [1.386274e+06],\n",
       "       [1.435827e+06],\n",
       "       [1.493879e+06],\n",
       "       [1.541993e+06],\n",
       "       [1.595674e+06],\n",
       "       [1.643319e+06],\n",
       "       [1.686446e+06],\n",
       "       [1.749425e+06],\n",
       "       [1.820009e+06],\n",
       "       [1.890077e+06],\n",
       "       [1.951776e+06],\n",
       "       [2.012573e+06],\n",
       "       [2.065407e+06],\n",
       "       [2.110923e+06],\n",
       "       [2.175070e+06],\n",
       "       [2.235646e+06],\n",
       "       [2.299332e+06],\n",
       "       [2.362270e+06],\n",
       "       [2.424393e+06],\n",
       "       [2.487305e+06],\n",
       "       [2.534304e+06]])"
      ]
     },
     "execution_count": 21,
     "metadata": {},
     "output_type": "execute_result"
    }
   ],
   "source": [
    "X=np.array(X).reshape(-1,1)\n",
    "X"
   ]
  },
  {
   "cell_type": "code",
   "execution_count": 22,
   "id": "6dc5640f",
   "metadata": {},
   "outputs": [],
   "source": [
    "from sklearn.model_selection import train_test_split"
   ]
  },
  {
   "cell_type": "code",
   "execution_count": 23,
   "id": "bccbe69c",
   "metadata": {},
   "outputs": [],
   "source": [
    "X_train,X_test,y_train,y_test= train_test_split(X,y,test_size=0.3,train_size=0.7,random_state=1)\n",
    "#X_train,X_test,y_train,y_test = train_test_split(X,y,test_size=0.3,train_size=0.7,random_state=1)"
   ]
  },
  {
   "cell_type": "code",
   "execution_count": 24,
   "id": "24241b8c",
   "metadata": {},
   "outputs": [
    {
     "data": {
      "text/plain": [
       "array([[  2841.],\n",
       "       [150209.],\n",
       "       [  9372.],\n",
       "       [ 80858.],\n",
       "       [  2671.],\n",
       "       [  1980.],\n",
       "       [  5280.],\n",
       "       [  2719.],\n",
       "       [ 38044.],\n",
       "       [ 16097.],\n",
       "       [158764.],\n",
       "       [  2051.],\n",
       "       [ 44609.],\n",
       "       [176333.],\n",
       "       [ 72711.],\n",
       "       [217040.],\n",
       "       [   381.],\n",
       "       [ 22259.],\n",
       "       [102349.],\n",
       "       [  3045.],\n",
       "       [  4841.],\n",
       "       [ 12285.],\n",
       "       [ 13891.],\n",
       "       [  1097.],\n",
       "       [ 17699.],\n",
       "       [  3279.],\n",
       "       [  2100.],\n",
       "       [  5854.],\n",
       "       [ 21197.],\n",
       "       [ 40646.],\n",
       "       [ 11489.],\n",
       "       [  2514.],\n",
       "       [ 49650.],\n",
       "       [  3377.],\n",
       "       [  3200.],\n",
       "       [  2627.],\n",
       "       [  4261.]])"
      ]
     },
     "execution_count": 24,
     "metadata": {},
     "output_type": "execute_result"
    }
   ],
   "source": [
    "y_test"
   ]
  },
  {
   "cell_type": "code",
   "execution_count": 25,
   "id": "30cdca5b",
   "metadata": {},
   "outputs": [],
   "source": [
    "from sklearn.linear_model import LinearRegression"
   ]
  },
  {
   "cell_type": "code",
   "execution_count": 26,
   "id": "7ef2fdb6",
   "metadata": {},
   "outputs": [],
   "source": [
    "slr=LinearRegression()"
   ]
  },
  {
   "cell_type": "code",
   "execution_count": 27,
   "id": "20d0374a",
   "metadata": {},
   "outputs": [
    {
     "data": {
      "text/plain": [
       "LinearRegression()"
      ]
     },
     "execution_count": 27,
     "metadata": {},
     "output_type": "execute_result"
    }
   ],
   "source": [
    "slr.fit(X,y)"
   ]
  },
  {
   "cell_type": "code",
   "execution_count": 28,
   "id": "ff07faac",
   "metadata": {},
   "outputs": [],
   "source": [
    "y_pred=slr.predict(X_test)"
   ]
  },
  {
   "cell_type": "code",
   "execution_count": 29,
   "id": "349bd97c",
   "metadata": {},
   "outputs": [
    {
     "data": {
      "text/plain": [
       "array([[  2564.47830596],\n",
       "       [128373.88037549],\n",
       "       [ 29025.21806078],\n",
       "       [ 92929.90204903],\n",
       "       [   480.38021362],\n",
       "       [-10126.9786025 ],\n",
       "       [ 20720.30935614],\n",
       "       [  1094.0857162 ],\n",
       "       [ 70203.96851057],\n",
       "       [ 47039.07134066],\n",
       "       [132353.32521143],\n",
       "       [ -8760.75325748],\n",
       "       [ 73526.85089365],\n",
       "       [140613.11737263],\n",
       "       [ 89305.96653711],\n",
       "       [159392.06889689],\n",
       "       [-22688.58422397],\n",
       "       [ 57961.94468187],\n",
       "       [103810.06907949],\n",
       "       [  4862.63519044],\n",
       "       [ 18379.06956206],\n",
       "       [ 38254.4510079 ],\n",
       "       [ 42471.90632349],\n",
       "       [-18088.35382688],\n",
       "       [ 51848.99198312],\n",
       "       [  7197.4728039 ],\n",
       "       [ -7361.46253252],\n",
       "       [ 22912.94323999],\n",
       "       [ 55879.88022337],\n",
       "       [ 71728.81729552],\n",
       "       [ 36412.28002335],\n",
       "       [ -1812.88088567],\n",
       "       [ 75872.91115314],\n",
       "       [  7949.61604749],\n",
       "       [  6589.94352263],\n",
       "       [  -290.89425206],\n",
       "       [ 15224.37622994]])"
      ]
     },
     "execution_count": 29,
     "metadata": {},
     "output_type": "execute_result"
    }
   ],
   "source": [
    "y_pred"
   ]
  },
  {
   "cell_type": "code",
   "execution_count": 30,
   "id": "c89b3642",
   "metadata": {},
   "outputs": [
    {
     "data": {
      "text/plain": [
       "array([[0.07531977]])"
      ]
     },
     "execution_count": 30,
     "metadata": {},
     "output_type": "execute_result"
    }
   ],
   "source": [
    "slr.coef_"
   ]
  },
  {
   "cell_type": "code",
   "execution_count": 31,
   "id": "e1faaa6b",
   "metadata": {},
   "outputs": [
    {
     "data": {
      "text/plain": [
       "array([-23212.65919783])"
      ]
     },
     "execution_count": 31,
     "metadata": {},
     "output_type": "execute_result"
    }
   ],
   "source": [
    "slr.intercept_"
   ]
  },
  {
   "cell_type": "code",
   "execution_count": 32,
   "id": "8d9b610c",
   "metadata": {},
   "outputs": [
    {
     "data": {
      "text/plain": [
       "82.78689307562216"
      ]
     },
     "execution_count": 32,
     "metadata": {},
     "output_type": "execute_result"
    }
   ],
   "source": [
    "slr.score(X,y)*100"
   ]
  },
  {
   "cell_type": "code",
   "execution_count": 33,
   "id": "0b27fbde",
   "metadata": {},
   "outputs": [
    {
     "data": {
      "text/plain": [
       "513322818.77490216"
      ]
     },
     "execution_count": 33,
     "metadata": {},
     "output_type": "execute_result"
    }
   ],
   "source": [
    "from sklearn import metrics\n",
    "metrics.mean_squared_error(y_test,y_pred)"
   ]
  },
  {
   "cell_type": "code",
   "execution_count": 34,
   "id": "40bc33f9",
   "metadata": {},
   "outputs": [
    {
     "data": {
      "image/png": "[encoded data removed]",
      "text/plain": [
       "<Figure size 432x288 with 1 Axes>"
      ]
     },
     "metadata": {
      "needs_background": "light"
     },
     "output_type": "display_data"
    }
   ],
   "source": [
    "sns.regplot(x=X_test,y=y_test)\n",
    "plt.xlabel('Total samples')\n",
    "#plt.xticks(rotation=90)\n",
    "plt.ylabel('positive')\n",
    "plt.title('corona cases')\n",
    "plt.show()"
   ]
  },
  {
   "cell_type": "code",
   "execution_count": 35,
   "id": "c363b189",
   "metadata": {},
   "outputs": [
    {
     "data": {
      "text/plain": [
       "[<matplotlib.lines.Line2D at 0xab37e29c40>]"
      ]
     },
     "execution_count": 35,
     "metadata": {},
     "output_type": "execute_result"
    },
    {
     "data": {
      "image/png": "[encoded data removed]",
      "text/plain": [
       "<Figure size 432x288 with 1 Axes>"
      ]
     },
     "metadata": {
      "needs_background": "light"
     },
     "output_type": "display_data"
    }
   ],
   "source": [
    "plt.scatter(X_test,y_test)\n",
    "plt.plot(X_test,y_pred)"
   ]
  },
  {
   "cell_type": "code",
   "execution_count": 36,
   "id": "0b1ad893",
   "metadata": {},
   "outputs": [
    {
     "data": {
      "text/plain": [
       "array([[127426.88488163]])"
      ]
     },
     "execution_count": 36,
     "metadata": {},
     "output_type": "execute_result"
    }
   ],
   "source": [
    "slr.predict([[2000000]])"
   ]
  },
  {
   "cell_type": "markdown",
   "id": "d890f7c5",
   "metadata": {},
   "source": [
    "# polynomial regression"
   ]
  },
  {
   "cell_type": "code",
   "execution_count": 37,
   "id": "f8136161",
   "metadata": {},
   "outputs": [
    {
     "data": {
      "text/html": [
       "<div>\n",
       "<style scoped>\n",
       "    .dataframe tbody tr th:only-of-type {\n",
       "        vertical-align: middle;\n",
       "    }\n",
       "\n",
       "    .dataframe tbody tr th {\n",
       "        vertical-align: top;\n",
       "    }\n",
       "\n",
       "    .dataframe thead th {\n",
       "        text-align: right;\n",
       "    }\n",
       "</style>\n",
       "<table border=\"1\" class=\"dataframe\">\n",
       "  <thead>\n",
       "    <tr style=\"text-align: right;\">\n",
       "      <th></th>\n",
       "      <th>TotalSamples</th>\n",
       "      <th>Positive</th>\n",
       "    </tr>\n",
       "  </thead>\n",
       "  <tbody>\n",
       "    <tr>\n",
       "      <th>418</th>\n",
       "      <td>1800.0</td>\n",
       "      <td>132.0</td>\n",
       "    </tr>\n",
       "    <tr>\n",
       "      <th>419</th>\n",
       "      <td>6374.0</td>\n",
       "      <td>365.0</td>\n",
       "    </tr>\n",
       "    <tr>\n",
       "      <th>420</th>\n",
       "      <td>6958.0</td>\n",
       "      <td>381.0</td>\n",
       "    </tr>\n",
       "    <tr>\n",
       "      <th>421</th>\n",
       "      <td>6958.0</td>\n",
       "      <td>405.0</td>\n",
       "    </tr>\n",
       "    <tr>\n",
       "      <th>422</th>\n",
       "      <td>8755.0</td>\n",
       "      <td>432.0</td>\n",
       "    </tr>\n",
       "    <tr>\n",
       "      <th>...</th>\n",
       "      <td>...</td>\n",
       "      <td>...</td>\n",
       "    </tr>\n",
       "    <tr>\n",
       "      <th>536</th>\n",
       "      <td>2299332.0</td>\n",
       "      <td>196789.0</td>\n",
       "    </tr>\n",
       "    <tr>\n",
       "      <th>537</th>\n",
       "      <td>2362270.0</td>\n",
       "      <td>206960.0</td>\n",
       "    </tr>\n",
       "    <tr>\n",
       "      <th>538</th>\n",
       "      <td>2424393.0</td>\n",
       "      <td>217040.0</td>\n",
       "    </tr>\n",
       "    <tr>\n",
       "      <th>539</th>\n",
       "      <td>2487305.0</td>\n",
       "      <td>227860.0</td>\n",
       "    </tr>\n",
       "    <tr>\n",
       "      <th>540</th>\n",
       "      <td>2534304.0</td>\n",
       "      <td>235525.0</td>\n",
       "    </tr>\n",
       "  </tbody>\n",
       "</table>\n",
       "<p>123 rows × 2 columns</p>\n",
       "</div>"
      ],
      "text/plain": [
       "     TotalSamples  Positive\n",
       "418        1800.0     132.0\n",
       "419        6374.0     365.0\n",
       "420        6958.0     381.0\n",
       "421        6958.0     405.0\n",
       "422        8755.0     432.0\n",
       "..            ...       ...\n",
       "536     2299332.0  196789.0\n",
       "537     2362270.0  206960.0\n",
       "538     2424393.0  217040.0\n",
       "539     2487305.0  227860.0\n",
       "540     2534304.0  235525.0\n",
       "\n",
       "[123 rows x 2 columns]"
      ]
     },
     "execution_count": 37,
     "metadata": {},
     "output_type": "execute_result"
    }
   ],
   "source": [
    "dt"
   ]
  },
  {
   "cell_type": "code",
   "execution_count": 38,
   "id": "8da7feeb",
   "metadata": {},
   "outputs": [],
   "source": [
    "from sklearn.preprocessing import PolynomialFeatures \n",
    "poly=PolynomialFeatures(degree=2)\n",
    "x=poly.fit_transform(X_train)"
   ]
  },
  {
   "cell_type": "code",
   "execution_count": 39,
   "id": "580de529",
   "metadata": {},
   "outputs": [
    {
     "data": {
      "text/html": [
       "<div>\n",
       "<style scoped>\n",
       "    .dataframe tbody tr th:only-of-type {\n",
       "        vertical-align: middle;\n",
       "    }\n",
       "\n",
       "    .dataframe tbody tr th {\n",
       "        vertical-align: top;\n",
       "    }\n",
       "\n",
       "    .dataframe thead th {\n",
       "        text-align: right;\n",
       "    }\n",
       "</style>\n",
       "<table border=\"1\" class=\"dataframe\">\n",
       "  <thead>\n",
       "    <tr style=\"text-align: right;\">\n",
       "      <th></th>\n",
       "      <th>0</th>\n",
       "      <th>1</th>\n",
       "      <th>2</th>\n",
       "    </tr>\n",
       "  </thead>\n",
       "  <tbody>\n",
       "    <tr>\n",
       "      <th>0</th>\n",
       "      <td>1.0</td>\n",
       "      <td>454030.0</td>\n",
       "      <td>2.061432e+11</td>\n",
       "    </tr>\n",
       "    <tr>\n",
       "      <th>1</th>\n",
       "      <td>1.0</td>\n",
       "      <td>26958.0</td>\n",
       "      <td>7.267338e+08</td>\n",
       "    </tr>\n",
       "    <tr>\n",
       "      <th>2</th>\n",
       "      <td>1.0</td>\n",
       "      <td>1890077.0</td>\n",
       "      <td>3.572391e+12</td>\n",
       "    </tr>\n",
       "    <tr>\n",
       "      <th>3</th>\n",
       "      <td>1.0</td>\n",
       "      <td>181144.0</td>\n",
       "      <td>3.281315e+10</td>\n",
       "    </tr>\n",
       "    <tr>\n",
       "      <th>4</th>\n",
       "      <td>1.0</td>\n",
       "      <td>918429.0</td>\n",
       "      <td>8.435118e+11</td>\n",
       "    </tr>\n",
       "    <tr>\n",
       "      <th>...</th>\n",
       "      <td>...</td>\n",
       "      <td>...</td>\n",
       "      <td>...</td>\n",
       "    </tr>\n",
       "    <tr>\n",
       "      <th>81</th>\n",
       "      <td>1.0</td>\n",
       "      <td>21450.0</td>\n",
       "      <td>4.601025e+08</td>\n",
       "    </tr>\n",
       "    <tr>\n",
       "      <th>82</th>\n",
       "      <td>1.0</td>\n",
       "      <td>676828.0</td>\n",
       "      <td>4.580961e+11</td>\n",
       "    </tr>\n",
       "    <tr>\n",
       "      <th>83</th>\n",
       "      <td>1.0</td>\n",
       "      <td>35755.0</td>\n",
       "      <td>1.278420e+09</td>\n",
       "    </tr>\n",
       "    <tr>\n",
       "      <th>84</th>\n",
       "      <td>1.0</td>\n",
       "      <td>1643319.0</td>\n",
       "      <td>2.700497e+12</td>\n",
       "    </tr>\n",
       "    <tr>\n",
       "      <th>85</th>\n",
       "      <td>1.0</td>\n",
       "      <td>238998.0</td>\n",
       "      <td>5.712004e+10</td>\n",
       "    </tr>\n",
       "  </tbody>\n",
       "</table>\n",
       "<p>86 rows × 3 columns</p>\n",
       "</div>"
      ],
      "text/plain": [
       "      0          1             2\n",
       "0   1.0   454030.0  2.061432e+11\n",
       "1   1.0    26958.0  7.267338e+08\n",
       "2   1.0  1890077.0  3.572391e+12\n",
       "3   1.0   181144.0  3.281315e+10\n",
       "4   1.0   918429.0  8.435118e+11\n",
       "..  ...        ...           ...\n",
       "81  1.0    21450.0  4.601025e+08\n",
       "82  1.0   676828.0  4.580961e+11\n",
       "83  1.0    35755.0  1.278420e+09\n",
       "84  1.0  1643319.0  2.700497e+12\n",
       "85  1.0   238998.0  5.712004e+10\n",
       "\n",
       "[86 rows x 3 columns]"
      ]
     },
     "execution_count": 39,
     "metadata": {},
     "output_type": "execute_result"
    }
   ],
   "source": [
    "pd.DataFrame(x)"
   ]
  },
  {
   "cell_type": "code",
   "execution_count": 40,
   "id": "bf3268af",
   "metadata": {},
   "outputs": [],
   "source": [
    "from sklearn.linear_model import LinearRegression"
   ]
  },
  {
   "cell_type": "code",
   "execution_count": 41,
   "id": "99851a22",
   "metadata": {},
   "outputs": [],
   "source": [
    "Plr=LinearRegression()"
   ]
  },
  {
   "cell_type": "code",
   "execution_count": 42,
   "id": "e04897ef",
   "metadata": {},
   "outputs": [
    {
     "data": {
      "text/plain": [
       "LinearRegression()"
      ]
     },
     "execution_count": 42,
     "metadata": {},
     "output_type": "execute_result"
    }
   ],
   "source": [
    "Plr.fit(x,y_train)"
   ]
  },
  {
   "cell_type": "code",
   "execution_count": 43,
   "id": "d44deed7",
   "metadata": {},
   "outputs": [
    {
     "data": {
      "text/plain": [
       "array([[ 0.00000000e+00, -2.73559652e-02,  4.82594805e-08]])"
      ]
     },
     "execution_count": 43,
     "metadata": {},
     "output_type": "execute_result"
    }
   ],
   "source": [
    "Plr.coef_"
   ]
  },
  {
   "cell_type": "code",
   "execution_count": 44,
   "id": "037b9fbc",
   "metadata": {},
   "outputs": [
    {
     "data": {
      "text/plain": [
       "array([3441.7126642])"
      ]
     },
     "execution_count": 44,
     "metadata": {},
     "output_type": "execute_result"
    }
   ],
   "source": [
    "Plr.intercept_"
   ]
  },
  {
   "cell_type": "code",
   "execution_count": 45,
   "id": "f2233534",
   "metadata": {},
   "outputs": [
    {
     "data": {
      "text/plain": [
       "array([[ 9.69649499e+02],\n",
       "       [ 2.73932235e+03],\n",
       "       [ 1.24138569e+05],\n",
       "       [ 6.98892142e+01],\n",
       "       [ 1.90246435e+04],\n",
       "       [-3.77023182e+02],\n",
       "       [ 1.55554360e+03],\n",
       "       [ 2.44069390e+05],\n",
       "       [ 5.40205304e+02],\n",
       "       [-2.37706158e+02],\n",
       "       [ 5.12773279e+02],\n",
       "       [-4.04876859e+02],\n",
       "       [ 8.51981678e+03],\n",
       "       [ 3.29881904e+04],\n",
       "       [ 3.77630273e+04],\n",
       "       [-4.22912131e+02],\n",
       "       [ 1.21402600e+03],\n",
       "       [ 3.45604317e+03],\n",
       "       [ 3.13211036e+04],\n",
       "       [ 1.04335128e+03],\n",
       "       [-1.08662525e+02],\n",
       "       [ 1.60739424e+05],\n",
       "       [ 2.33965344e+05],\n",
       "       [ 3.20591028e+03],\n",
       "       [ 5.82617765e+04],\n",
       "       [ 2.09773605e+03],\n",
       "       [ 6.36549844e+04],\n",
       "       [-4.32103165e+02],\n",
       "       [ 4.65451166e+01],\n",
       "       [ 6.49899604e+02],\n",
       "       [-4.30585600e+02],\n",
       "       [ 9.35032632e+02],\n",
       "       [ 4.17129071e+04],\n",
       "       [ 1.83489797e+05],\n",
       "       [ 3.61281642e+04],\n",
       "       [-1.95471473e+02],\n",
       "       [ 1.28648571e+03],\n",
       "       [ 5.36184311e+03],\n",
       "       [ 3.25370628e+03],\n",
       "       [ 1.13509894e+05],\n",
       "       [ 2.41054298e+02],\n",
       "       [ 2.08122860e+05],\n",
       "       [-3.19335720e+02],\n",
       "       [ 3.46625204e+04],\n",
       "       [ 2.90792480e+03],\n",
       "       [ 1.73323636e+04],\n",
       "       [ 1.49414754e+03],\n",
       "       [ 3.39262829e+03],\n",
       "       [ 1.33890088e+05],\n",
       "       [ 6.93384769e+02],\n",
       "       [ 1.14545099e+03],\n",
       "       [ 1.80183964e+03],\n",
       "       [ 2.31397704e+03],\n",
       "       [ 2.90792480e+03],\n",
       "       [ 1.95685648e+05],\n",
       "       [ 2.38927480e+03],\n",
       "       [ 2.55448594e+04],\n",
       "       [ 3.97345031e+04],\n",
       "       [ 2.67418370e+04],\n",
       "       [ 4.35503135e+03],\n",
       "       [ 8.26676179e+04],\n",
       "       [ 2.23908909e+03],\n",
       "       [ 3.40271566e+02],\n",
       "       [ 4.32405019e+02],\n",
       "       [ 2.64656370e+03],\n",
       "       [ 2.24206537e+04],\n",
       "       [ 1.67051713e+03],\n",
       "       [ 5.43726861e+04],\n",
       "       [ 1.40695872e+03],\n",
       "       [-1.26489125e+02],\n",
       "       [ 7.72772266e+02],\n",
       "       [ 3.13053620e+03],\n",
       "       [ 1.03282056e+05],\n",
       "       [ 6.13433996e+03],\n",
       "       [ 1.09587056e+04],\n",
       "       [ 3.26930642e+03],\n",
       "       [ 1.94686516e+03],\n",
       "       [ 2.65758228e+03],\n",
       "       [ 1.46146774e+04],\n",
       "       [ 3.15966393e+03],\n",
       "       [ 1.00812370e+04],\n",
       "       [ 2.87713152e+03],\n",
       "       [ 7.03391127e+03],\n",
       "       [ 2.52529601e+03],\n",
       "       [ 8.88117339e+04],\n",
       "       [-3.39724658e+02]])"
      ]
     },
     "execution_count": 45,
     "metadata": {},
     "output_type": "execute_result"
    }
   ],
   "source": [
    "Y_pred=Plr.predict(x)\n",
    "Y_pred"
   ]
  },
  {
   "cell_type": "code",
   "execution_count": 46,
   "id": "d1a2cb7a",
   "metadata": {},
   "outputs": [
    {
     "data": {
      "text/plain": [
       "99.56646419225376"
      ]
     },
     "execution_count": 46,
     "metadata": {},
     "output_type": "execute_result"
    }
   ],
   "source": [
    "Plr.score(x,y_train)*100"
   ]
  },
  {
   "cell_type": "code",
   "execution_count": 77,
   "id": "af55af25",
   "metadata": {},
   "outputs": [
    {
     "data": {
      "image/png": "[encoded data removed]",
      "text/plain": [
       "<Figure size 432x288 with 1 Axes>"
      ]
     },
     "metadata": {
      "needs_background": "light"
     },
     "output_type": "display_data"
    }
   ],
   "source": [
    "plt.scatter(X_train,y_train)\n",
    "plt.plot(X_train,Plr.predict(x))\n",
    "plt.show()"
   ]
  },
  {
   "cell_type": "code",
   "execution_count": 47,
   "id": "6422de7d",
   "metadata": {},
   "outputs": [
    {
     "data": {
      "text/plain": [
       "13899079.264727341"
      ]
     },
     "execution_count": 47,
     "metadata": {},
     "output_type": "execute_result"
    }
   ],
   "source": [
    "from sklearn import metrics\n",
    "metrics.mean_squared_error(y_train,Y_pred)"
   ]
  },
  {
   "cell_type": "code",
   "execution_count": 48,
   "id": "d863aec9",
   "metadata": {},
   "outputs": [
    {
     "data": {
      "text/plain": [
       "<AxesSubplot:>"
      ]
     },
     "execution_count": 48,
     "metadata": {},
     "output_type": "execute_result"
    },
    {
     "data": {
      "image/png": "[encoded data removed]",
      "text/plain": [
       "<Figure size 432x288 with 1 Axes>"
      ]
     },
     "metadata": {
      "needs_background": "light"
     },
     "output_type": "display_data"
    }
   ],
   "source": [
    "# seaborn\n",
    "sns.regplot(X_train,Y_pred,color='green',order=2)"
   ]
  },
  {
   "cell_type": "code",
   "execution_count": 49,
   "id": "04f8dd5f",
   "metadata": {},
   "outputs": [
    {
     "data": {
      "text/plain": [
       "array([[-2.68068640e+02],\n",
       "       [ 1.43858452e+05],\n",
       "       [ 7.68227389e+03],\n",
       "       [ 7.60076194e+04],\n",
       "       [-3.88182951e+02],\n",
       "       [ 1.45680980e+02],\n",
       "       [ 3.90432504e+03],\n",
       "       [-3.60489231e+02],\n",
       "       [ 4.37487480e+04],\n",
       "       [ 1.99099542e+04],\n",
       "       [ 1.52810922e+05],\n",
       "       [-3.04825354e+01],\n",
       "       [ 4.79170271e+04],\n",
       "       [ 1.72252774e+05],\n",
       "       [ 7.02746612e+04],\n",
       "       [ 2.20773954e+05],\n",
       "       [ 3.25370628e+03],\n",
       "       [ 3.00130792e+04],\n",
       "       [ 9.45621485e+04],\n",
       "       [-4.99447220e+01],\n",
       "       [ 3.05131494e+03],\n",
       "       [ 1.32573251e+04],\n",
       "       [ 1.62873656e+04],\n",
       "       [ 1.80395197e+03],\n",
       "       [ 2.41087732e+04],\n",
       "       [ 2.63680844e+02],\n",
       "       [-1.77990396e+02],\n",
       "       [ 4.78775875e+03],\n",
       "       [ 2.79306859e+04],\n",
       "       [ 4.56382205e+04],\n",
       "       [ 1.20287731e+04],\n",
       "       [-4.34957516e+02],\n",
       "       [ 5.09731016e+04],\n",
       "       [ 3.84463461e+02],\n",
       "       [ 1.73147941e+02],\n",
       "       [-4.13900109e+02],\n",
       "       [ 2.04942042e+03]])"
      ]
     },
     "execution_count": 49,
     "metadata": {},
     "output_type": "execute_result"
    }
   ],
   "source": [
    "pri=Plr.predict(poly.fit_transform(X_test))\n",
    "pri"
   ]
  },
  {
   "cell_type": "code",
   "execution_count": 59,
   "id": "ee5e9c8a",
   "metadata": {},
   "outputs": [
    {
     "data": {
      "text/plain": [
       "<AxesSubplot:>"
      ]
     },
     "execution_count": 59,
     "metadata": {},
     "output_type": "execute_result"
    },
    {
     "data": {
      "image/png": "[encoded data removed]",
      "text/plain": [
       "<Figure size 432x288 with 1 Axes>"
      ]
     },
     "metadata": {
      "needs_background": "light"
     },
     "output_type": "display_data"
    }
   ],
   "source": [
    "sns.regplot(X_test,pri,color='red',order=2)"
   ]
  },
  {
   "cell_type": "code",
   "execution_count": 56,
   "id": "2e93acce",
   "metadata": {},
   "outputs": [
    {
     "data": {
      "text/plain": [
       "(37, 1)"
      ]
     },
     "execution_count": 56,
     "metadata": {},
     "output_type": "execute_result"
    }
   ],
   "source": [
    "pri.shape"
   ]
  },
  {
   "cell_type": "code",
   "execution_count": 58,
   "id": "4598a084",
   "metadata": {},
   "outputs": [
    {
     "data": {
      "text/plain": [
       "(37, 1)"
      ]
     },
     "execution_count": 58,
     "metadata": {},
     "output_type": "execute_result"
    }
   ],
   "source": [
    "X_test.shape"
   ]
  },
  {
   "cell_type": "code",
   "execution_count": 78,
   "id": "7d145f4c",
   "metadata": {},
   "outputs": [
    {
     "data": {
      "text/plain": [
       "0.9950463584818178"
      ]
     },
     "execution_count": 78,
     "metadata": {},
     "output_type": "execute_result"
    }
   ],
   "source": [
    "Plr.score(poly.fit_transform(X_test),y_test)"
   ]
  },
  {
   "cell_type": "code",
   "execution_count": 72,
   "id": "9ddd2694",
   "metadata": {},
   "outputs": [
    {
     "data": {
      "image/png": "[encoded data removed]",
      "text/plain": [
       "<Figure size 432x288 with 1 Axes>"
      ]
     },
     "metadata": {
      "needs_background": "light"
     },
     "output_type": "display_data"
    }
   ],
   "source": [
    "#matplotlib \n",
    "plt.scatter(X_test,y_test,color='red')\n",
    "plt.plot(X_test,pri,color='green')\n",
    "plt.show()"
   ]
  },
  {
   "cell_type": "code",
   "execution_count": 52,
   "id": "fa319a50",
   "metadata": {},
   "outputs": [
    {
     "data": {
      "text/plain": [
       "array([[141767.7043573]])"
      ]
     },
     "execution_count": 52,
     "metadata": {},
     "output_type": "execute_result"
    }
   ],
   "source": [
    "pred=Plr.predict(poly.fit_transform([[2000000]]))\n",
    "pred"
   ]
  },
  {
   "cell_type": "code",
   "execution_count": null,
   "id": "f3483ca8",
   "metadata": {},
   "outputs": [],
   "source": []
  },
  {
   "cell_type": "code",
   "execution_count": null,
   "id": "f48a3eae",
   "metadata": {},
   "outputs": [],
   "source": []
  }
 ],
 "metadata": {
  "kernelspec": {
   "display_name": "Python 3",
   "language": "python",
   "name": "python3"
  },
  "language_info": {
   "codemirror_mode": {
    "name": "ipython",
    "version": 3
   },
   "file_extension": ".py",
   "mimetype": "text/x-python",
   "name": "python",
   "nbconvert_exporter": "python",
   "pygments_lexer": "ipython3",
   "version": "3.8.10"
  }
 },
 "nbformat": 4,
 "nbformat_minor": 5
}
